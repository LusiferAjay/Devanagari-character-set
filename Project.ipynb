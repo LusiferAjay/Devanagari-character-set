{
  "nbformat": 4,
  "nbformat_minor": 0,
  "metadata": {
    "colab": {
      "name": "Untitled4.ipynb",
      "version": "0.3.2",
      "provenance": [],
      "toc_visible": true,
      "include_colab_link": true
    },
    "kernelspec": {
      "name": "python3",
      "display_name": "Python 3"
    },
    "accelerator": "GPU"
  },
  "cells": [
    {
      "cell_type": "markdown",
      "metadata": {
        "id": "view-in-github",
        "colab_type": "text"
      },
      "source": [
        "<a href=\"https://colab.research.google.com/github/LusiferAjay/Devanagari-character-set/blob/master/Project.ipynb\" target=\"_parent\"><img src=\"https://colab.research.google.com/assets/colab-badge.svg\" alt=\"Open In Colab\"/></a>"
      ]
    },
    {
      "cell_type": "markdown",
      "metadata": {
        "id": "r8ELlEvdiTeM",
        "colab_type": "text"
      },
      "source": [
        "#Import Modules"
      ]
    },
    {
      "cell_type": "code",
      "metadata": {
        "id": "YdWQ39k2iQsD",
        "colab_type": "code",
        "colab": {}
      },
      "source": [
        "#standard useful data processing imports\n",
        "import random\n",
        "import numpy as np\n",
        "import pandas as pd\n",
        "#visualisation imports\n",
        "import matplotlib.pyplot as plt\n",
        "import seaborn as sns\n",
        "#Scikit learn for preprocessing\n",
        "from sklearn.model_selection import train_test_split\n",
        "from sklearn.preprocessing import LabelEncoder\n",
        "#keras imports\n",
        "from keras.models import Sequential\n",
        "from keras.layers import Dense,Conv2D,MaxPool2D,Flatten,Dropout\n",
        "from keras.optimizers import Adam\n",
        "from keras.utils.np_utils import to_categorical"
      ],
      "execution_count": 0,
      "outputs": []
    },
    {
      "cell_type": "code",
      "metadata": {
        "id": "a7zwrizaia0-",
        "colab_type": "code",
        "colab": {}
      },
      "source": [
        "\n",
        "# Run this cell to mount your Google Drive.\n",
        "from google.colab import drive\n",
        "drive.mount('/content/drive')"
      ],
      "execution_count": 0,
      "outputs": []
    },
    {
      "cell_type": "code",
      "metadata": {
        "id": "Vq5F_6Diik9J",
        "colab_type": "code",
        "colab": {}
      },
      "source": [
        "dataset=pd.read_csv('/content/drive/My Drive/data.csv')"
      ],
      "execution_count": 0,
      "outputs": []
    },
    {
      "cell_type": "code",
      "metadata": {
        "id": "iXDzZ4_XjGkU",
        "colab_type": "code",
        "colab": {}
      },
      "source": [
        "print(dataset.head())"
      ],
      "execution_count": 0,
      "outputs": []
    },
    {
      "cell_type": "code",
      "metadata": {
        "id": "JcM9fTiWjN5c",
        "colab_type": "code",
        "colab": {}
      },
      "source": [
        "dataset.shape"
      ],
      "execution_count": 0,
      "outputs": []
    },
    {
      "cell_type": "code",
      "metadata": {
        "id": "xLNsni4WjRkg",
        "colab_type": "code",
        "colab": {}
      },
      "source": [
        "df=dataset['character'].value_counts()\n",
        "print(type(df))"
      ],
      "execution_count": 0,
      "outputs": []
    },
    {
      "cell_type": "code",
      "metadata": {
        "id": "zKV4MmbqjTtv",
        "colab_type": "code",
        "colab": {}
      },
      "source": [
        "df=dataset['character'].value_counts()\n",
        "print(type(df))"
      ],
      "execution_count": 0,
      "outputs": []
    },
    {
      "cell_type": "code",
      "metadata": {
        "id": "_dG-qO3KjXSf",
        "colab_type": "code",
        "colab": {}
      },
      "source": [
        "x=dataset.values[:,:-1]/255.0\n",
        "y=dataset['character'].values\n",
        "del dataset\n",
        "n_classes=46"
      ],
      "execution_count": 0,
      "outputs": []
    },
    {
      "cell_type": "code",
      "metadata": {
        "id": "IP2CHqJ3jaTI",
        "colab_type": "code",
        "colab": {}
      },
      "source": [
        "print(type(x),type(y))"
      ],
      "execution_count": 0,
      "outputs": []
    },
    {
      "cell_type": "code",
      "metadata": {
        "id": "2qgq-EMEjfnb",
        "colab_type": "code",
        "outputId": "c6e3a7fa-e9ef-414a-c328-06794ff09a9c",
        "colab": {
          "base_uri": "https://localhost:8080/",
          "height": 358
        }
      },
      "source": [
        "img_width_cols=32\n",
        "img_height_rows=32\n",
        "customcmap=sns.dark_palette(\"white\",as_cmap=True)\n",
        "random_idxs=random.sample(range(1,len(y)),4)\n",
        "plt_dims=(25,5)\n",
        "f, axarr = plt.subplots(1, 4, figsize=plt_dims)\n",
        "it = 0\n",
        "for idx in random_idxs:\n",
        "    image = x[idx,:].reshape(img_width_cols,img_height_rows)*255\n",
        "    axarr[it].set_title(y[idx])\n",
        "    axarr[it].axis('off')\n",
        "    sns.heatmap(data=image.astype(np.uint8),cmap=customcmap,ax=axarr[it])\n",
        "    it=it+1"
      ],
      "execution_count": 45,
      "outputs": [
        {
          "output_type": "display_data",
          "data": {
            "image/png": "[encoded data removed]",
            "text/plain": [
              "<Figure size 1800x360 with 8 Axes>"
            ]
          },
          "metadata": {
            "tags": []
          }
        }
      ]
    },
    {
      "cell_type": "code",
      "metadata": {
        "id": "hsKmjs4BjjSp",
        "colab_type": "code",
        "colab": {}
      },
      "source": [
        "x_train,x_test,y_train,y_test=train_test_split(x,y,test_size=0.2,random_state=42)\n",
        "le=LabelEncoder()\n",
        "y_train=le.fit_transform(y_train)\n",
        "y_test=le.transform(y_test)\n",
        "y_train=to_categorical(y_train,n_classes)\n",
        "y_test=to_categorical(y_test,n_classes)"
      ],
      "execution_count": 0,
      "outputs": []
    },
    {
      "cell_type": "code",
      "metadata": {
        "id": "pvZJatR2jnux",
        "colab_type": "code",
        "outputId": "bf53c2bb-527c-47e1-f609-4ca7308dfaa4",
        "colab": {
          "base_uri": "https://localhost:8080/",
          "height": 34
        }
      },
      "source": [
        "x_train.shape"
      ],
      "execution_count": 47,
      "outputs": [
        {
          "output_type": "execute_result",
          "data": {
            "text/plain": [
              "(73600, 1024)"
            ]
          },
          "metadata": {
            "tags": []
          },
          "execution_count": 47
        }
      ]
    },
    {
      "cell_type": "code",
      "metadata": {
        "id": "Z3yx2gecjvwm",
        "colab_type": "code",
        "colab": {}
      },
      "source": [
        "\n",
        "im_shape=(img_height_rows,img_width_cols,1)\n",
        "x_train=x_train.reshape(x_train.shape[0],*im_shape)\n",
        "x_test=x_test.reshape(x_test.shape[0],*im_shape)"
      ],
      "execution_count": 0,
      "outputs": []
    },
    {
      "cell_type": "code",
      "metadata": {
        "id": "tfWC24R9jyn0",
        "colab_type": "code",
        "colab": {}
      },
      "source": [
        "cnn = Sequential()\n"
      ],
      "execution_count": 0,
      "outputs": []
    },
    {
      "cell_type": "code",
      "metadata": {
        "id": "NED93VmPj1v0",
        "colab_type": "code",
        "colab": {}
      },
      "source": [
        "kernelSize=(3,3)\n",
        "ip_activation=\"relu\"\n",
        "ip_conv0=Conv2D(filters=32,kernel_size=kernelSize,input_shape=im_shape,activation=ip_activation)\n",
        "cnn.add(ip_conv0)"
      ],
      "execution_count": 0,
      "outputs": []
    },
    {
      "cell_type": "code",
      "metadata": {
        "id": "2eBKf5xXj4Mz",
        "colab_type": "code",
        "colab": {}
      },
      "source": [
        "ip_conv_0_1=Conv2D(filters=64,kernel_size=kernelSize,activation=ip_activation)\n",
        "cnn.add(ip_conv_0_1)"
      ],
      "execution_count": 0,
      "outputs": []
    },
    {
      "cell_type": "code",
      "metadata": {
        "id": "OB7SeqYTkfNw",
        "colab_type": "code",
        "colab": {}
      },
      "source": [
        "pool_0=MaxPool2D(pool_size=(2,2),strides=(2,2),padding=\"same\")"
      ],
      "execution_count": 0,
      "outputs": []
    },
    {
      "cell_type": "code",
      "metadata": {
        "id": "gKdWpyISkib0",
        "colab_type": "code",
        "colab": {}
      },
      "source": [
        "\n",
        "cnn.add(pool_0)\n",
        "ip_conv_1=Conv2D(filters=64,kernel_size=kernelSize,activation=ip_activation)\n",
        "cnn.add(ip_conv_1)\n",
        "pool_1 = MaxPool2D(pool_size=(2, 2), strides=(2, 2), padding=\"same\")\n",
        "cnn.add(pool_1)"
      ],
      "execution_count": 0,
      "outputs": []
    },
    {
      "cell_type": "code",
      "metadata": {
        "id": "W9NeHyaIklyk",
        "colab_type": "code",
        "colab": {}
      },
      "source": [
        "drop_layer_0 = Dropout(0.2)\n",
        "cnn.add(drop_layer_0)"
      ],
      "execution_count": 0,
      "outputs": []
    },
    {
      "cell_type": "code",
      "metadata": {
        "id": "vANvrQsnkqRO",
        "colab_type": "code",
        "colab": {}
      },
      "source": [
        "flat_layer_0=Flatten()\n",
        "cnn.add(Flatten())\n"
      ],
      "execution_count": 0,
      "outputs": []
    },
    {
      "cell_type": "code",
      "metadata": {
        "id": "5APInbN5kxfw",
        "colab_type": "code",
        "colab": {}
      },
      "source": [
        "h_dense_0=Dense(units=128,activation=ip_activation,kernel_initializer='uniform')\n",
        "cnn.add(h_dense_0)\n",
        "h_dense_1=Dense(units=64,activation=ip_activation,kernel_initializer='uniform')\n",
        "cnn.add(h_dense_1)"
      ],
      "execution_count": 0,
      "outputs": []
    },
    {
      "cell_type": "code",
      "metadata": {
        "id": "wrz7xm1Fk0CP",
        "colab_type": "code",
        "colab": {}
      },
      "source": [
        "op_activation='softmax'\n",
        "output_layer=Dense(units=n_classes,activation=op_activation,kernel_initializer='uniform')\n",
        "cnn.add(output_layer)"
      ],
      "execution_count": 0,
      "outputs": []
    },
    {
      "cell_type": "code",
      "metadata": {
        "id": "K86y6xz6k3Cv",
        "colab_type": "code",
        "colab": {}
      },
      "source": [
        "opt='adam'\n",
        "loss='categorical_crossentropy'\n",
        "metrics=['accuracy']\n",
        "cnn.compile(optimizer=opt, loss=loss, metrics=metrics)"
      ],
      "execution_count": 0,
      "outputs": []
    },
    {
      "cell_type": "code",
      "metadata": {
        "id": "dnd0nhUtk6S5",
        "colab_type": "code",
        "colab": {}
      },
      "source": [
        "history = cnn.fit(x_train, y_train,\n",
        "                  batch_size=32, epochs=10,\n",
        "                  validation_data=(x_test, y_test))"
      ],
      "execution_count": 0,
      "outputs": []
    },
    {
      "cell_type": "code",
      "metadata": {
        "id": "uvbW3D1UlIOt",
        "colab_type": "code",
        "colab": {
          "base_uri": "https://localhost:8080/",
          "height": 34
        },
        "outputId": "1affaf0d-16bb-41f6-a92b-80275241c811"
      },
      "source": [
        "scores=cnn.evaluate(x_test,y_test,verbose=0)\n",
        "print(\"Accuracy:%.2f%%\" % (scores[1]*100))"
      ],
      "execution_count": 61,
      "outputs": [
        {
          "output_type": "stream",
          "text": [
            "Accuracy:97.85%\n"
          ],
          "name": "stdout"
        }
      ]
    },
    {
      "cell_type": "code",
      "metadata": {
        "id": "sHhfv1OrrQvQ",
        "colab_type": "code",
        "colab": {
          "base_uri": "https://localhost:8080/",
          "height": 312
        },
        "outputId": "6929aa39-3076-4d69-da60-30d5b64bd4f0"
      },
      "source": [
        "print(history)\n",
        "fig1, ax_acc = plt.subplots()\n",
        "plt.plot(history.history['acc'])\n",
        "plt.plot(history.history['val_acc'])\n",
        "plt.xlabel('Epoch')\n",
        "plt.ylabel('Accuracy')\n",
        "plt.title('Model - Accuracy')\n",
        "plt.legend(['Training', 'Validation'], loc='lower right')\n",
        "plt.show()"
      ],
      "execution_count": 62,
      "outputs": [
        {
          "output_type": "stream",
          "text": [
            "<keras.callbacks.History object at 0x7fa4b1426240>\n"
          ],
          "name": "stdout"
        },
        {
          "output_type": "display_data",
          "data": {
            "image/png": "[encoded data removed]",
            "text/plain": [
              "<Figure size 432x288 with 1 Axes>"
            ]
          },
          "metadata": {
            "tags": []
          }
        }
      ]
    },
    {
      "cell_type": "code",
      "metadata": {
        "id": "4Kh_uRfQraIN",
        "colab_type": "code",
        "colab": {
          "base_uri": "https://localhost:8080/",
          "height": 295
        },
        "outputId": "58b84410-7cd3-4a6f-e1db-e5fdbcecdfa9"
      },
      "source": [
        "fig2, ax_loss = plt.subplots()\n",
        "plt.xlabel('Epoch')\n",
        "plt.ylabel('Loss')\n",
        "plt.title('Model- Loss')\n",
        "plt.legend(['Training', 'Validation'], loc='upper right')\n",
        "plt.plot(history.history['loss'])\n",
        "plt.plot(history.history['val_loss'])\n",
        "plt.legend(['Training','Validation'],loc='upper right')\n",
        "plt.show()"
      ],
      "execution_count": 65,
      "outputs": [
        {
          "output_type": "display_data",
          "data": {
            "image/png": "[encoded data removed]",
            "text/plain": [
              "<Figure size 432x288 with 1 Axes>"
            ]
          },
          "metadata": {
            "tags": []
          }
        }
      ]
    },
    {
      "cell_type": "code",
      "metadata": {
        "id": "zKPhfTo4rfcK",
        "colab_type": "code",
        "colab": {}
      },
      "source": [
        ""
      ],
      "execution_count": 0,
      "outputs": []
    }
  ]
}